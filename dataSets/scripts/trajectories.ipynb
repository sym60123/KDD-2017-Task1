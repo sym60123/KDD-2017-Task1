{
 "cells": [
  {
   "cell_type": "code",
   "execution_count": 30,
   "metadata": {
    "collapsed": true
   },
   "outputs": [],
   "source": [
    "import pandas as pd\n",
    "import numpy as np\n",
    "\n",
    "input_file = '../trajectories(table 5)_training.csv'\n",
    "output_file = 'new_trajectories_train.csv'"
   ]
  },
  {
   "cell_type": "code",
   "execution_count": 31,
   "metadata": {
    "collapsed": false
   },
   "outputs": [],
   "source": [
    "data = pd.read_csv(input_file)"
   ]
  },
  {
   "cell_type": "code",
   "execution_count": 32,
   "metadata": {
    "collapsed": false
   },
   "outputs": [],
   "source": [
    "result = {col:[] for col in data.columns}\n",
    "link = []\n",
    "last_enter_time = []\n",
    "enter_time = []\n",
    "travel_time = []\n",
    "\n",
    "travel_seq = data.travel_seq\n",
    "i = 0\n",
    "for seq in travel_seq:\n",
    "    for line in seq.split(';'):\n",
    "        lk, et, tt = line.split('#')\n",
    "        link += [lk]\n",
    "        enter_time += [et]\n",
    "        travel_time += [tt]\n",
    "        for col in data.columns:\n",
    "            result[col].append(data[col][i])\n",
    "    i += 1"
   ]
  },
  {
   "cell_type": "code",
   "execution_count": 33,
   "metadata": {
    "collapsed": false
   },
   "outputs": [],
   "source": [
    "result['link'] = link\n",
    "result['enter_time'] = enter_time\n",
    "result['link_travel_time'] = travel_time"
   ]
  },
  {
   "cell_type": "code",
   "execution_count": 34,
   "metadata": {
    "collapsed": false
   },
   "outputs": [],
   "source": [
    "result = pd.DataFrame( result ,\n",
    "                      columns=[*data.columns, 'link', 'enter_time', 'link_travel_time'])"
   ]
  },
  {
   "cell_type": "code",
   "execution_count": 35,
   "metadata": {
    "collapsed": false
   },
   "outputs": [],
   "source": [
    "result.to_csv(output_file, index=False)"
   ]
  },
  {
   "cell_type": "code",
   "execution_count": null,
   "metadata": {
    "collapsed": true
   },
   "outputs": [],
   "source": []
  }
 ],
 "metadata": {
  "anaconda-cloud": {},
  "kernelspec": {
   "display_name": "Python 3",
   "language": "python",
   "name": "python3"
  },
  "language_info": {
   "codemirror_mode": {
    "name": "ipython",
    "version": 3
   },
   "file_extension": ".py",
   "mimetype": "text/x-python",
   "name": "python",
   "nbconvert_exporter": "python",
   "pygments_lexer": "ipython3",
   "version": "3.6.0"
  }
 },
 "nbformat": 4,
 "nbformat_minor": 1
}
