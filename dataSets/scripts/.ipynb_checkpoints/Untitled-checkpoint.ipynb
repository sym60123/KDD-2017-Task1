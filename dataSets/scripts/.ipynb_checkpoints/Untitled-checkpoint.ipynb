{
 "cells": [
  {
   "cell_type": "code",
   "execution_count": 1,
   "metadata": {
    "collapsed": true
   },
   "outputs": [],
   "source": [
    "import pandas as pd\n",
    "import numpy as np\n",
    "\n",
    "import sklearn"
   ]
  },
  {
   "cell_type": "code",
   "execution_count": 2,
   "metadata": {
    "collapsed": true
   },
   "outputs": [],
   "source": [
    "from sklearn.metrics import make_scorer\n",
    "\n",
    "def mean_absolute_percentage_error(y_true, y_pred): \n",
    "    return np.mean(np.abs((y_true - y_pred) / y_true))\n",
    "\n",
    "mape = make_scorer(mean_absolute_percentage_error, greater_is_better=False)"
   ]
  },
  {
   "cell_type": "code",
   "execution_count": 3,
   "metadata": {
    "collapsed": false
   },
   "outputs": [],
   "source": [
    "data = pd.read_csv('../volume&weather_outlier.csv').drop(['Unnamed: 0'], axis = 1)"
   ]
  },
  {
   "cell_type": "code",
   "execution_count": 4,
   "metadata": {
    "collapsed": false
   },
   "outputs": [
    {
     "name": "stderr",
     "output_type": "stream",
     "text": [
      "C:\\Users\\yecheng\\Anaconda3\\lib\\site-packages\\ipykernel\\__main__.py:3: SettingWithCopyWarning: \n",
      "A value is trying to be set on a copy of a slice from a DataFrame\n",
      "\n",
      "See the caveats in the documentation: http://pandas.pydata.org/pandas-docs/stable/indexing.html#indexing-view-versus-copy\n",
      "  app.launch_new_instance()\n"
     ]
    }
   ],
   "source": [
    "train_x = data.drop(['time_window_start', 'volume'],  axis = 1)\n",
    "for col in train_x.columns:\n",
    "    train_x[col][train_x[col].isnull()] = -1\n",
    "\n",
    "train_x = train_x.as_matrix()"
   ]
  },
  {
   "cell_type": "code",
   "execution_count": 5,
   "metadata": {
    "collapsed": false
   },
   "outputs": [],
   "source": [
    "train_y = data.volume.as_matrix()"
   ]
  },
  {
   "cell_type": "code",
   "execution_count": 6,
   "metadata": {
    "collapsed": false
   },
   "outputs": [
    {
     "name": "stdout",
     "output_type": "stream",
     "text": [
      "* 0: train:0.08915276955559409, test:0.1890202583815016\n",
      "* 1: train:0.08374699012553521, test:0.24546074726658978\n",
      "* 2: train:0.08041450399700523, test:0.3117732336802884\n",
      "* 3: train:0.0934829829789243, test:0.22058025176015345\n",
      "* 4: train:0.09091841782926988, test:0.18101048511142984\n"
     ]
    }
   ],
   "source": [
    "from sklearn.ensemble import GradientBoostingRegressor\n",
    "from sklearn.model_selection import KFold\n",
    "\n",
    "from scipy.stats import randint as sp_randint\n",
    "\n",
    "from sklearn.model_selection import RandomizedSearchCV\n",
    "clf = GradientBoostingRegressor(n_estimators= 100)\n",
    "\n",
    "param = {\n",
    "    'learning_rate': [0.1, 0.2],\n",
    "    'n_estimators': sp_randint(20, 400),\n",
    "    'max_depth': sp_randint(2,10),\n",
    "}\n",
    "\n",
    "clf = RandomizedSearchCV(\n",
    "    estimator=clf,\n",
    "    param_distributions=param, \n",
    "    scoring=mape, \n",
    "    n_iter=10,\n",
    "    cv=5,\n",
    "    n_jobs=1\n",
    ")\n",
    "\n",
    "clf.fit(train_x, train_y)\n",
    "\n",
    "gkf = KFold(5)\n",
    "i = 0\n",
    "for train, test in gkf.split(train_x, train_y):\n",
    "    clf.best_estimator_.fit(train_x[train], train_y[train])\n",
    "    print('* {}: train:{}, test:{}'.format(i,\n",
    "        mean_absolute_percentage_error(train_y[train], clf.best_estimator_.predict(train_x[train])),\n",
    "        mean_absolute_percentage_error(train_y[test], clf.best_estimator_.predict(train_x[test]))))\n",
    "    i+=1"
   ]
  },
  {
   "cell_type": "code",
   "execution_count": 8,
   "metadata": {
    "collapsed": false
   },
   "outputs": [
    {
     "data": {
      "text/plain": [
       "{'learning_rate': 0.1, 'max_depth': 6, 'n_estimators': 103}"
      ]
     },
     "execution_count": 8,
     "metadata": {},
     "output_type": "execute_result"
    }
   ],
   "source": [
    "clf.best_params_"
   ]
  },
  {
   "cell_type": "code",
   "execution_count": null,
   "metadata": {
    "collapsed": true
   },
   "outputs": [],
   "source": [
    "test_data = pd.read_csv('../volume&weather_outlier.csv').drop(['Unnamed: 0'], axis = 1)\n",
    "test_x = data.drop(['time_window_start', 'volume'],  axis = 1)\n",
    "\n"
   ]
  }
 ],
 "metadata": {
  "anaconda-cloud": {},
  "kernelspec": {
   "display_name": "Python 3",
   "language": "python",
   "name": "python3"
  },
  "language_info": {
   "codemirror_mode": {
    "name": "ipython",
    "version": 3
   },
   "file_extension": ".py",
   "mimetype": "text/x-python",
   "name": "python",
   "nbconvert_exporter": "python",
   "pygments_lexer": "ipython3",
   "version": "3.6.0"
  }
 },
 "nbformat": 4,
 "nbformat_minor": 1
}
