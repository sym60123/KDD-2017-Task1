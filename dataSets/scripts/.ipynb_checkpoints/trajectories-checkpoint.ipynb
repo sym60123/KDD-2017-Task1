{
 "cells": [
  {
   "cell_type": "code",
   "execution_count": 1,
   "metadata": {
    "collapsed": true
   },
   "outputs": [],
   "source": [
    "import pandas as pd\n",
    "import numpy as np\n",
    "\n",
    "input_file = '../trajectories(table 5)_test1.csv'\n",
    "output_file = 'new_trajectories_test.csv'"
   ]
  },
  {
   "cell_type": "code",
   "execution_count": 2,
   "metadata": {
    "collapsed": true
   },
   "outputs": [],
   "source": [
    "data = pd.read_csv(input_file)"
   ]
  },
  {
   "cell_type": "code",
   "execution_count": 3,
   "metadata": {
    "collapsed": false
   },
   "outputs": [],
   "source": [
    "result = data[0:0]\n",
    "link = []\n",
    "last_enter_time = []\n",
    "enter_time = []\n",
    "travel_time = []\n",
    "\n",
    "travel_seq = data.travel_seq\n",
    "i = 0\n",
    "for seq in travel_seq:\n",
    "    for line in seq.split(';'):\n",
    "        lk, et, tt = line.split('#')\n",
    "        link += [lk]\n",
    "        enter_time += [et]\n",
    "        travel_time += [tt]\n",
    "        #result = result.append(data[i:i+1])\n",
    "    \n",
    "    i += 1"
   ]
  },
  {
   "cell_type": "code",
   "execution_count": 4,
   "metadata": {
    "collapsed": false
   },
   "outputs": [],
   "source": [
    "result['link'] = link\n",
    "result['enter_time'] = enter_time\n",
    "result['link_travel_time'] = travel_time"
   ]
  },
  {
   "cell_type": "code",
   "execution_count": 5,
   "metadata": {
    "collapsed": false
   },
   "outputs": [],
   "source": [
    "result.to_csv(output_file, index=False)"
   ]
  }
 ],
 "metadata": {
  "anaconda-cloud": {},
  "kernelspec": {
   "display_name": "Python 3",
   "language": "python",
   "name": "python3"
  },
  "language_info": {
   "codemirror_mode": {
    "name": "ipython",
    "version": 3
   },
   "file_extension": ".py",
   "mimetype": "text/x-python",
   "name": "python",
   "nbconvert_exporter": "python",
   "pygments_lexer": "ipython3",
   "version": "3.6.0"
  }
 },
 "nbformat": 4,
 "nbformat_minor": 1
}
