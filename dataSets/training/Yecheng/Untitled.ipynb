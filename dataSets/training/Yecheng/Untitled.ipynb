{
 "cells": [
  {
   "cell_type": "code",
   "execution_count": 1,
   "metadata": {
    "collapsed": true
   },
   "outputs": [],
   "source": [
    "import pandas as pd\n",
    "from Tools import handleTime"
   ]
  },
  {
   "cell_type": "code",
   "execution_count": 2,
   "metadata": {
    "collapsed": false
   },
   "outputs": [],
   "source": [
    "def process(inputName, outputName):\n",
    "    table = pd.read_csv(inputName)\n",
    "    \n",
    "    table['time_start'] = pd.to_datetime(\n",
    "    table.time_window.apply(lambda x: x[1:-1].split(',')[0]))\n",
    "    \n",
    "    table['dayofyear'] = table.time_start.apply(lambda x: x.dayofyear)\n",
    "    table['hour'] = table.time_start.apply(lambda x: x.hour)\n",
    "    table['minute'] = table.time_start.apply(lambda x: x.minute)\n",
    "    \n",
    "    days = {\n",
    "    'day_of_year': []\n",
    "    }\n",
    "    hours = [6, 7]\n",
    "    for day,df in table.groupby(['dayofyear']):\n",
    "        days['day_of_year'] += [day]\n",
    "\n",
    "        for hour in hours:\n",
    "            for minute in table['minute'].unique():           \n",
    "                for key, t in table.groupby(['intersection_id', 'tollgate_id']):\n",
    "                    ind = ((t['minute'] == minute) \n",
    "                       & (t['hour'] == hour) \n",
    "                       & (t['dayofyear'] == day))\n",
    "\n",
    "                    t = t[ind]\n",
    "                    iid, tid = key\n",
    "                    name = '_'.join(['time' , str(iid) , str(tid) , str(hour) , str(minute)])\n",
    "\n",
    "                    if(name not in days):\n",
    "                        days[name] = []\n",
    "\n",
    "                    if(len(t) == 0):\n",
    "                        days[name] += [None]\n",
    "                    elif(len(t) == 1):\n",
    "                        days[name] += [t.avg_travel_time.values[0]]\n",
    "                    else:\n",
    "                        print(\"Error\", len(t)) \n",
    "    pd.DataFrame(days).to_csv(outputName, index=None)"
   ]
  },
  {
   "cell_type": "code",
   "execution_count": 4,
   "metadata": {
    "collapsed": false
   },
   "outputs": [],
   "source": [
    "inputName = '../training_20min_avg_travel_time.csv'\n",
    "outputName = 'travel_time_feature.csv'\n",
    "process(inputName, outputName)\n",
    "\n",
    "inputName = '../test1_20min_avg_travel_time.csv'\n",
    "outputName = 'test_travel_time_feature.csv'\n",
    "process(inputName, outputName)"
   ]
  },
  {
   "cell_type": "code",
   "execution_count": 6,
   "metadata": {
    "collapsed": false
   },
   "outputs": [],
   "source": [
    "def process2(inputName, outputName):\n",
    "    table = pd.read_csv(inputName)\n",
    "    \n",
    "    table['time_start'] = pd.to_datetime(\n",
    "    table.time_window.apply(lambda x: x[1:-1].split(',')[0]))\n",
    "    \n",
    "    table['dayofyear'] = table.time_start.apply(lambda x: x.dayofyear)\n",
    "    table['hour'] = table.time_start.apply(lambda x: x.hour)\n",
    "    table['minute'] = table.time_start.apply(lambda x: x.minute)\n",
    "    \n",
    "    days = {\n",
    "    'day_of_year': []\n",
    "    }\n",
    "    hours = [6, 7]\n",
    "    for day,df in table.groupby(['dayofyear']):\n",
    "        days['day_of_year'] += [day]\n",
    "\n",
    "        for hour in hours:\n",
    "            for minute in table['minute'].unique():           \n",
    "                for key, t in table.groupby(['tollgate_id', 'direction']):\n",
    "                    ind = ((t['minute'] == minute) \n",
    "                       & (t['hour'] == hour) \n",
    "                       & (t['dayofyear'] == day))\n",
    "\n",
    "                    t = t[ind]\n",
    "                    tid, direct = key\n",
    "                    name = '_'.join(['volume' , str(tid) , str(direct) , str(hour) , str(minute)])\n",
    "\n",
    "                    if(name not in days):\n",
    "                        days[name] = []\n",
    "\n",
    "                    if(len(t) == 0):\n",
    "                        days[name] += [None]\n",
    "                    elif(len(t) == 1):\n",
    "                        days[name] += [t.volume.values[0]]\n",
    "                    else:\n",
    "                        print(\"Error\", len(t)) \n",
    "    pd.DataFrame(days).to_csv(outputName, index=None)"
   ]
  },
  {
   "cell_type": "code",
   "execution_count": 8,
   "metadata": {
    "collapsed": false
   },
   "outputs": [],
   "source": [
    "inputFile = '../training_20min_avg_volume.csv'\n",
    "outputFile = '../train_volume_feature.csv'\n",
    "\n",
    "process2(inputFile, outputFile)\n",
    "\n",
    "inputFile = '../test1_20min_avg_volume.csv'\n",
    "outputFile = '../test_volume_feature.csv'\n",
    "\n",
    "process2(inputFile, outputFile)"
   ]
  },
  {
   "cell_type": "code",
   "execution_count": null,
   "metadata": {
    "collapsed": false
   },
   "outputs": [],
   "source": []
  }
 ],
 "metadata": {
  "kernelspec": {
   "display_name": "Python 3",
   "language": "python",
   "name": "python3"
  },
  "language_info": {
   "codemirror_mode": {
    "name": "ipython",
    "version": 3
   },
   "file_extension": ".py",
   "mimetype": "text/x-python",
   "name": "python",
   "nbconvert_exporter": "python",
   "pygments_lexer": "ipython3",
   "version": "3.6.0"
  }
 },
 "nbformat": 4,
 "nbformat_minor": 2
}
