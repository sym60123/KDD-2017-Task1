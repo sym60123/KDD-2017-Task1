{
 "cells": [
  {
   "cell_type": "code",
   "execution_count": 1,
   "metadata": {
    "collapsed": true
   },
   "outputs": [],
   "source": [
    "import dill\n",
    "import pandas as pd"
   ]
  },
  {
   "cell_type": "markdown",
   "metadata": {},
   "source": [
    "# 读取数据"
   ]
  },
  {
   "cell_type": "code",
   "execution_count": 2,
   "metadata": {
    "collapsed": true
   },
   "outputs": [],
   "source": [
    "train_data = {\n",
    "    'trajectories': pd.read_csv('../trajectories(table 5)_training.csv'),\n",
    "    'volume': pd.read_csv('../volume(table 6)_training.csv'),\n",
    "    'avg_travel_time': pd.read_csv('../training_20min_avg_travel_time.csv'),\n",
    "    'avg_volume': pd.read_csv('../training_20min_avg_volume.csv'),\n",
    "}\n",
    "\n",
    "test_data = {\n",
    "    'trajectories': pd.read_csv('../trajectories(table 5)_training.csv'),\n",
    "    'volume': pd.read_csv('../volume(table 6)_training.csv'),\n",
    "    'avg_travel_time': pd.read_csv('../test1_20min_avg_travel_time.csv'),\n",
    "    'avg_volume': pd.read_csv('../test1_20min_avg_volume.csv'),\n",
    "}\n",
    "\n",
    "links = pd.read_csv('../links (table 3).csv')\n",
    "routes = pd.read_csv('../routes (table 4).csv')\n",
    "weather = pd.concat([\n",
    "    pd.read_csv('../weather (table 7)_training_update.csv'),\n",
    "    pd.read_csv('../weather (table 7)_test1.csv')])\n",
    "\n",
    "train_trajectories = train_data['trajectories']\n",
    "train_volume = train_data['volume']\n",
    "\n",
    "train_avg_travel_time = train_data['avg_travel_time']\n",
    "\n",
    "train_avg_volume = train_data['avg_volume']\n",
    "\n",
    "test_avg_travel_time = test_data['avg_travel_time']\n",
    "\n",
    "test_avg_volume = test_data['avg_volume']"
   ]
  },
  {
   "cell_type": "code",
   "execution_count": 3,
   "metadata": {
    "collapsed": true
   },
   "outputs": [],
   "source": [
    "# 处理天气数据 插值填充每小时数据\n",
    "\n",
    "weather.date = pd.to_datetime(weather.date)\n",
    "weather['time'] = weather.date + pd.to_timedelta(weather.hour, unit='h')\n",
    "\n",
    "weather = weather.set_index(['time'])\n",
    "weather = weather.reindex(pd.date_range(start= weather.date.min(), end=weather.date.max(), freq='1H'), fill_value='NaN')\n",
    "\n",
    "weather['date'] = pd.to_datetime([t.date() for t in weather.index])\n",
    "weather['year'] = [t.year for t in weather.index]\n",
    "weather['day_of_year'] = [t.dayofyear for t in weather.index]\n",
    "weather['hour'] = [t.hour for t in weather.index]\n",
    "for col in ['pressure', 'sea_pressure', 'wind_direction', 'wind_speed', 'temperature', 'rel_humidity', 'precipitation']:\n",
    "    weather[col] = weather[col].astype(float).interpolate()\n",
    "    \n",
    "weather = weather.drop(['date'], axis=1)"
   ]
  },
  {
   "cell_type": "code",
   "execution_count": 4,
   "metadata": {
    "collapsed": true
   },
   "outputs": [],
   "source": [
    "# 拆分时间窗\n",
    "\n",
    "def split_time_window(time_window):\n",
    "    time_start = [time[1:-1].split(',')[0] for time in time_window]\n",
    "    time_end = [time[1:-1].split(',')[1] for time in time_window]\n",
    "\n",
    "    return pd.to_datetime(pd.Series(time_start)), pd.to_datetime(pd.Series(time_end))\n",
    "\n",
    "train_avg_volume['time_start'], train_avg_volume['time_end'] = split_time_window(train_avg_volume.time_window)\n",
    "train_avg_volume = train_avg_volume.drop(['time_window'], axis=1)\n",
    "\n",
    "train_avg_travel_time['time_start'], train_avg_travel_time['time_end'] = split_time_window(train_avg_travel_time.time_window)\n",
    "train_avg_travel_time = train_avg_travel_time.drop(['time_window'], axis=1)\n",
    "\n",
    "test_avg_volume['time_start'], test_avg_volume['time_end'] = split_time_window(test_avg_volume.time_window)\n",
    "test_avg_volume = test_avg_volume.drop(['time_window'], axis=1)\n",
    "\n",
    "test_avg_travel_time['time_start'], test_avg_travel_time['time_end'] = split_time_window(test_avg_travel_time.time_window)\n",
    "test_avg_travel_time = test_avg_travel_time.drop(['time_window'], axis=1)"
   ]
  },
  {
   "cell_type": "code",
   "execution_count": 5,
   "metadata": {
    "collapsed": false
   },
   "outputs": [],
   "source": [
    "dill.dump_session(\"data.pickle\")"
   ]
  },
  {
   "cell_type": "code",
   "execution_count": 6,
   "metadata": {
    "collapsed": false
   },
   "outputs": [
    {
     "data": {
      "text/plain": [
       "\"train_path = pd.read_csv('../train_avg_travel_time_4h&path.csv')\\ntrain_path = train_path.drop(['Unnamed: 0','time_window_start',\\n                              'time_start_of_day',\\n                              'Traffic_jam_probability_20min1', \\n                              'Traffic_jam_probability_20min2',\\n       'Traffic_jam_probability_20min3', 'Traffic_jam_probability_20min4',\\n       'Traffic_jam_probability_20min5', 'Traffic_jam_probability_20min6',\\n       'Traffic_jam_probability_20min7', 'Traffic_jam_probability_20min8',\\n       'Traffic_jam_probability_20min9', 'Traffic_jam_probability_20min10',\\n       'Traffic_jam_probability_20min11', 'Traffic_jam_probability_20min12',\\n       'Traffic_jam_probability_40min1', 'Traffic_jam_probability_40min2',\\n       'Traffic_jam_probability_40min3', 'Traffic_jam_probability_40min4',\\n       'Traffic_jam_probability_40min5', 'Traffic_jam_probability_40min6',\\n       'Traffic_jam_probability_1h1', 'Traffic_jam_probability_1h2',\\n       'Traffic_jam_probability_1h3', 'Traffic_jam_probability_1h4',\\n       'Traffic_jam_probability_2h1', 'Traffic_jam_probability_2h2',\\n                              'path_time_median_20min1',\\n       'path_time_median_20min2', 'path_time_median_20min3',\\n       'path_time_median_20min4', 'path_time_median_20min5',\\n       'path_time_median_20min6', 'path_time_median_20min7',\\n       'path_time_median_20min8', 'path_time_median_20min9',\\n       'path_time_median_20min10', 'path_time_median_20min11',\\n       'path_time_median_20min12', 'path_time_median_40min1',\\n       'path_time_median_40min2', 'path_time_median_40min3',\\n       'path_time_median_40min4', 'path_time_median_40min5',\\n       'path_time_median_40min6', 'path_time_median_1h1',\\n       'path_time_median_1h2', 'path_time_median_1h3', 'path_time_median_1h4',\\n       'path_time_median_2h1', 'path_time_median_2h2'], axis = 1)\\n\\ntest_path = pd.read_csv('../test_avg_travel_time_4h&path.csv')\\ntest_path = test_path.drop(['Unnamed: 0','time_window_start','time_start_of_day',\\n                            'Traffic_jam_probability_20min1', 'Traffic_jam_probability_20min2',\\n       'Traffic_jam_probability_20min3', 'Traffic_jam_probability_20min4',\\n       'Traffic_jam_probability_20min5', 'Traffic_jam_probability_20min6',\\n       'Traffic_jam_probability_20min7', 'Traffic_jam_probability_20min8',\\n       'Traffic_jam_probability_20min9', 'Traffic_jam_probability_20min10',\\n       'Traffic_jam_probability_20min11', 'Traffic_jam_probability_20min12',\\n       'Traffic_jam_probability_40min1', 'Traffic_jam_probability_40min2',\\n       'Traffic_jam_probability_40min3', 'Traffic_jam_probability_40min4',\\n       'Traffic_jam_probability_40min5', 'Traffic_jam_probability_40min6',\\n       'Traffic_jam_probability_1h1', 'Traffic_jam_probability_1h2',\\n       'Traffic_jam_probability_1h3', 'Traffic_jam_probability_1h4',\\n       'Traffic_jam_probability_2h1', 'Traffic_jam_probability_2h2',\\n                            'path_time_median_20min1',\\n       'path_time_median_20min2', 'path_time_median_20min3',\\n       'path_time_median_20min4', 'path_time_median_20min5',\\n       'path_time_median_20min6', 'path_time_median_20min7',\\n       'path_time_median_20min8', 'path_time_median_20min9',\\n       'path_time_median_20min10', 'path_time_median_20min11',\\n       'path_time_median_20min12', 'path_time_median_40min1',\\n       'path_time_median_40min2', 'path_time_median_40min3',\\n       'path_time_median_40min4', 'path_time_median_40min5',\\n       'path_time_median_40min6', 'path_time_median_1h1',\\n       'path_time_median_1h2', 'path_time_median_1h3', 'path_time_median_1h4',\\n       'path_time_median_2h1', 'path_time_median_2h2'], axis = 1)\""
      ]
     },
     "execution_count": 6,
     "metadata": {},
     "output_type": "execute_result"
    }
   ],
   "source": [
    "'''train_path = pd.read_csv('../train_avg_travel_time_4h&path.csv')\n",
    "train_path = train_path.drop(['Unnamed: 0','time_window_start',\n",
    "                              'time_start_of_day',\n",
    "                              'Traffic_jam_probability_20min1', \n",
    "                              'Traffic_jam_probability_20min2',\n",
    "       'Traffic_jam_probability_20min3', 'Traffic_jam_probability_20min4',\n",
    "       'Traffic_jam_probability_20min5', 'Traffic_jam_probability_20min6',\n",
    "       'Traffic_jam_probability_20min7', 'Traffic_jam_probability_20min8',\n",
    "       'Traffic_jam_probability_20min9', 'Traffic_jam_probability_20min10',\n",
    "       'Traffic_jam_probability_20min11', 'Traffic_jam_probability_20min12',\n",
    "       'Traffic_jam_probability_40min1', 'Traffic_jam_probability_40min2',\n",
    "       'Traffic_jam_probability_40min3', 'Traffic_jam_probability_40min4',\n",
    "       'Traffic_jam_probability_40min5', 'Traffic_jam_probability_40min6',\n",
    "       'Traffic_jam_probability_1h1', 'Traffic_jam_probability_1h2',\n",
    "       'Traffic_jam_probability_1h3', 'Traffic_jam_probability_1h4',\n",
    "       'Traffic_jam_probability_2h1', 'Traffic_jam_probability_2h2',\n",
    "                              'path_time_median_20min1',\n",
    "       'path_time_median_20min2', 'path_time_median_20min3',\n",
    "       'path_time_median_20min4', 'path_time_median_20min5',\n",
    "       'path_time_median_20min6', 'path_time_median_20min7',\n",
    "       'path_time_median_20min8', 'path_time_median_20min9',\n",
    "       'path_time_median_20min10', 'path_time_median_20min11',\n",
    "       'path_time_median_20min12', 'path_time_median_40min1',\n",
    "       'path_time_median_40min2', 'path_time_median_40min3',\n",
    "       'path_time_median_40min4', 'path_time_median_40min5',\n",
    "       'path_time_median_40min6', 'path_time_median_1h1',\n",
    "       'path_time_median_1h2', 'path_time_median_1h3', 'path_time_median_1h4',\n",
    "       'path_time_median_2h1', 'path_time_median_2h2'], axis = 1)\n",
    "\n",
    "test_path = pd.read_csv('../test_avg_travel_time_4h&path.csv')\n",
    "test_path = test_path.drop(['Unnamed: 0','time_window_start','time_start_of_day',\n",
    "                            'Traffic_jam_probability_20min1', 'Traffic_jam_probability_20min2',\n",
    "       'Traffic_jam_probability_20min3', 'Traffic_jam_probability_20min4',\n",
    "       'Traffic_jam_probability_20min5', 'Traffic_jam_probability_20min6',\n",
    "       'Traffic_jam_probability_20min7', 'Traffic_jam_probability_20min8',\n",
    "       'Traffic_jam_probability_20min9', 'Traffic_jam_probability_20min10',\n",
    "       'Traffic_jam_probability_20min11', 'Traffic_jam_probability_20min12',\n",
    "       'Traffic_jam_probability_40min1', 'Traffic_jam_probability_40min2',\n",
    "       'Traffic_jam_probability_40min3', 'Traffic_jam_probability_40min4',\n",
    "       'Traffic_jam_probability_40min5', 'Traffic_jam_probability_40min6',\n",
    "       'Traffic_jam_probability_1h1', 'Traffic_jam_probability_1h2',\n",
    "       'Traffic_jam_probability_1h3', 'Traffic_jam_probability_1h4',\n",
    "       'Traffic_jam_probability_2h1', 'Traffic_jam_probability_2h2',\n",
    "                            'path_time_median_20min1',\n",
    "       'path_time_median_20min2', 'path_time_median_20min3',\n",
    "       'path_time_median_20min4', 'path_time_median_20min5',\n",
    "       'path_time_median_20min6', 'path_time_median_20min7',\n",
    "       'path_time_median_20min8', 'path_time_median_20min9',\n",
    "       'path_time_median_20min10', 'path_time_median_20min11',\n",
    "       'path_time_median_20min12', 'path_time_median_40min1',\n",
    "       'path_time_median_40min2', 'path_time_median_40min3',\n",
    "       'path_time_median_40min4', 'path_time_median_40min5',\n",
    "       'path_time_median_40min6', 'path_time_median_1h1',\n",
    "       'path_time_median_1h2', 'path_time_median_1h3', 'path_time_median_1h4',\n",
    "       'path_time_median_2h1', 'path_time_median_2h2'], axis = 1)'''"
   ]
  }
 ],
 "metadata": {
  "kernelspec": {
   "display_name": "Python 3",
   "language": "python",
   "name": "python3"
  },
  "language_info": {
   "codemirror_mode": {
    "name": "ipython",
    "version": 3
   },
   "file_extension": ".py",
   "mimetype": "text/x-python",
   "name": "python",
   "nbconvert_exporter": "python",
   "pygments_lexer": "ipython3",
   "version": "3.6.0"
  }
 },
 "nbformat": 4,
 "nbformat_minor": 2
}
