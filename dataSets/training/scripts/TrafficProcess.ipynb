{
 "cells": [
  {
   "cell_type": "code",
   "execution_count": 4,
   "metadata": {
    "collapsed": true
   },
   "outputs": [],
   "source": [
    "import pandas as pd\n",
    "import sklearn"
   ]
  },
  {
   "cell_type": "code",
   "execution_count": 5,
   "metadata": {
    "collapsed": false
   },
   "outputs": [],
   "source": [
    "posts = pd.read_pickle('../Before.pickle')\n",
    "posts = posts[(posts.hour >= 6) & (posts.hour < 8)]"
   ]
  },
  {
   "cell_type": "code",
   "execution_count": 9,
   "metadata": {
    "collapsed": false
   },
   "outputs": [],
   "source": [
    "for day, table in posts.groupby('day_of_year'):\n",
    "    pass"
   ]
  },
  {
   "cell_type": "code",
   "execution_count": 26,
   "metadata": {
    "collapsed": false
   },
   "outputs": [
    {
     "data": {
      "text/plain": [
       "4754     1\n",
       "4755     1\n",
       "4756     1\n",
       "4757     1\n",
       "4758     1\n",
       "4759     1\n",
       "10051    0\n",
       "10052    0\n",
       "10053    0\n",
       "10054    0\n",
       "10055    0\n",
       "10056    0\n",
       "13356    2\n",
       "13357    2\n",
       "13358    2\n",
       "13359    2\n",
       "19306    0\n",
       "19307    0\n",
       "19308    0\n",
       "19309    0\n",
       "19310    0\n",
       "19311    0\n",
       "22524    1\n",
       "22525    1\n",
       "22526    1\n",
       "22527    1\n",
       "Name: intersection_id, dtype: int64"
      ]
     },
     "execution_count": 26,
     "metadata": {},
     "output_type": "execute_result"
    }
   ],
   "source": [
    "table"
   ]
  },
  {
   "cell_type": "code",
   "execution_count": null,
   "metadata": {
    "collapsed": true
   },
   "outputs": [],
   "source": []
  }
 ],
 "metadata": {
  "kernelspec": {
   "display_name": "Python 3",
   "language": "python",
   "name": "python3"
  },
  "language_info": {
   "codemirror_mode": {
    "name": "ipython",
    "version": 3
   },
   "file_extension": ".py",
   "mimetype": "text/x-python",
   "name": "python",
   "nbconvert_exporter": "python",
   "pygments_lexer": "ipython3",
   "version": "3.6.0"
  }
 },
 "nbformat": 4,
 "nbformat_minor": 2
}
