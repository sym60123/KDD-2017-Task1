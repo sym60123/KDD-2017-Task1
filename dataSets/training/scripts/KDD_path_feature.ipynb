{
 "cells": [
  {
   "cell_type": "code",
   "execution_count": 8,
   "metadata": {
    "collapsed": false
   },
   "outputs": [],
   "source": [
    "import pandas as pd #数据分析\n",
    "import numpy as np #科学计算\n",
    "from pandas import Series,DataFrame\n",
    "%matplotlib inline"
   ]
  },
  {
   "cell_type": "code",
   "execution_count": 9,
   "metadata": {
    "collapsed": false
   },
   "outputs": [],
   "source": [
    "trajectories_train = pd.concat([pd.read_csv(\"../trajectories(table 5)_training.csv\"),\n",
    "    pd.read_csv(\"../trajectories(table 5)_test1.csv\")])"
   ]
  },
  {
   "cell_type": "markdown",
   "metadata": {},
   "source": [
    "# 处理路径数据"
   ]
  },
  {
   "cell_type": "code",
   "execution_count": 10,
   "metadata": {
    "collapsed": false
   },
   "outputs": [],
   "source": [
    "trajectories_train['starting_time_of_day']=trajectories_train['starting_time'].apply(lambda x:x.split(' ')[1])"
   ]
  },
  {
   "cell_type": "code",
   "execution_count": 11,
   "metadata": {
    "collapsed": false
   },
   "outputs": [],
   "source": [
    "trajectories_train['starting_time']=pd.to_datetime(trajectories_train['starting_time'])\n",
    "\n",
    "trajectories_train['hour']=[t.hour for t in trajectories_train['starting_time']]"
   ]
  },
  {
   "cell_type": "code",
   "execution_count": 12,
   "metadata": {
    "collapsed": false
   },
   "outputs": [],
   "source": [
    "ind=(trajectories_train['hour']>=6)&(trajectories_train['hour']<8)\n",
    "ind1=(trajectories_train['hour']>=15)&(trajectories_train['hour']<17)\n",
    "ind2=ind|ind1\n",
    "trajectory_train=trajectories_train[ind2]"
   ]
  },
  {
   "cell_type": "code",
   "execution_count": 13,
   "metadata": {
    "collapsed": false,
    "scrolled": true
   },
   "outputs": [
    {
     "ename": "KeyError",
     "evalue": "'link_travel_time'",
     "output_type": "error",
     "traceback": [
      "\u001b[0;31m---------------------------------------------------------------------------\u001b[0m",
      "\u001b[0;31mKeyError\u001b[0m                                  Traceback (most recent call last)",
      "\u001b[0;32m/home/yecheng/anaconda3/lib/python3.6/site-packages/pandas/indexes/base.py\u001b[0m in \u001b[0;36mget_loc\u001b[0;34m(self, key, method, tolerance)\u001b[0m\n\u001b[1;32m   2133\u001b[0m             \u001b[0;32mtry\u001b[0m\u001b[0;34m:\u001b[0m\u001b[0;34m\u001b[0m\u001b[0m\n\u001b[0;32m-> 2134\u001b[0;31m                 \u001b[0;32mreturn\u001b[0m \u001b[0mself\u001b[0m\u001b[0;34m.\u001b[0m\u001b[0m_engine\u001b[0m\u001b[0;34m.\u001b[0m\u001b[0mget_loc\u001b[0m\u001b[0;34m(\u001b[0m\u001b[0mkey\u001b[0m\u001b[0;34m)\u001b[0m\u001b[0;34m\u001b[0m\u001b[0m\n\u001b[0m\u001b[1;32m   2135\u001b[0m             \u001b[0;32mexcept\u001b[0m \u001b[0mKeyError\u001b[0m\u001b[0;34m:\u001b[0m\u001b[0;34m\u001b[0m\u001b[0m\n",
      "\u001b[0;32mpandas/index.pyx\u001b[0m in \u001b[0;36mpandas.index.IndexEngine.get_loc (pandas/index.c:4433)\u001b[0;34m()\u001b[0m\n",
      "\u001b[0;32mpandas/index.pyx\u001b[0m in \u001b[0;36mpandas.index.IndexEngine.get_loc (pandas/index.c:4279)\u001b[0;34m()\u001b[0m\n",
      "\u001b[0;32mpandas/src/hashtable_class_helper.pxi\u001b[0m in \u001b[0;36mpandas.hashtable.PyObjectHashTable.get_item (pandas/hashtable.c:13742)\u001b[0;34m()\u001b[0m\n",
      "\u001b[0;32mpandas/src/hashtable_class_helper.pxi\u001b[0m in \u001b[0;36mpandas.hashtable.PyObjectHashTable.get_item (pandas/hashtable.c:13696)\u001b[0;34m()\u001b[0m\n",
      "\u001b[0;31mKeyError\u001b[0m: 'link_travel_time'",
      "\nDuring handling of the above exception, another exception occurred:\n",
      "\u001b[0;31mKeyError\u001b[0m                                  Traceback (most recent call last)",
      "\u001b[0;32m<ipython-input-13-ba6664405c03>\u001b[0m in \u001b[0;36m<module>\u001b[0;34m()\u001b[0m\n\u001b[0;32m----> 1\u001b[0;31m \u001b[0mtrajectory_train\u001b[0m\u001b[0;34m[\u001b[0m\u001b[0;34m'link_time_percent'\u001b[0m\u001b[0;34m]\u001b[0m\u001b[0;34m=\u001b[0m\u001b[0mtrajectory_train\u001b[0m\u001b[0;34m[\u001b[0m\u001b[0;34m'link_travel_time'\u001b[0m\u001b[0;34m]\u001b[0m\u001b[0;34m/\u001b[0m\u001b[0mtrajectory_train\u001b[0m\u001b[0;34m[\u001b[0m\u001b[0;34m'travel_time'\u001b[0m\u001b[0;34m]\u001b[0m\u001b[0;34m\u001b[0m\u001b[0m\n\u001b[0m\u001b[1;32m      2\u001b[0m \u001b[0mtrajectory_train\u001b[0m\u001b[0;34m[\u001b[0m\u001b[0;34m'link_travel_time'\u001b[0m\u001b[0;34m]\u001b[0m\u001b[0;34m[\u001b[0m\u001b[0mtrajectory_train\u001b[0m\u001b[0;34m[\u001b[0m\u001b[0;34m'link_travel_time'\u001b[0m\u001b[0;34m]\u001b[0m\u001b[0;34m>\u001b[0m\u001b[0mtrajectory_train\u001b[0m\u001b[0;34m[\u001b[0m\u001b[0;34m'travel_time'\u001b[0m\u001b[0;34m]\u001b[0m\u001b[0;34m]\u001b[0m\u001b[0;34m=\u001b[0m\u001b[0mnp\u001b[0m\u001b[0;34m.\u001b[0m\u001b[0mnan\u001b[0m\u001b[0;34m\u001b[0m\u001b[0m\n",
      "\u001b[0;32m/home/yecheng/anaconda3/lib/python3.6/site-packages/pandas/core/frame.py\u001b[0m in \u001b[0;36m__getitem__\u001b[0;34m(self, key)\u001b[0m\n\u001b[1;32m   2057\u001b[0m             \u001b[0;32mreturn\u001b[0m \u001b[0mself\u001b[0m\u001b[0;34m.\u001b[0m\u001b[0m_getitem_multilevel\u001b[0m\u001b[0;34m(\u001b[0m\u001b[0mkey\u001b[0m\u001b[0;34m)\u001b[0m\u001b[0;34m\u001b[0m\u001b[0m\n\u001b[1;32m   2058\u001b[0m         \u001b[0;32melse\u001b[0m\u001b[0;34m:\u001b[0m\u001b[0;34m\u001b[0m\u001b[0m\n\u001b[0;32m-> 2059\u001b[0;31m             \u001b[0;32mreturn\u001b[0m \u001b[0mself\u001b[0m\u001b[0;34m.\u001b[0m\u001b[0m_getitem_column\u001b[0m\u001b[0;34m(\u001b[0m\u001b[0mkey\u001b[0m\u001b[0;34m)\u001b[0m\u001b[0;34m\u001b[0m\u001b[0m\n\u001b[0m\u001b[1;32m   2060\u001b[0m \u001b[0;34m\u001b[0m\u001b[0m\n\u001b[1;32m   2061\u001b[0m     \u001b[0;32mdef\u001b[0m \u001b[0m_getitem_column\u001b[0m\u001b[0;34m(\u001b[0m\u001b[0mself\u001b[0m\u001b[0;34m,\u001b[0m \u001b[0mkey\u001b[0m\u001b[0;34m)\u001b[0m\u001b[0;34m:\u001b[0m\u001b[0;34m\u001b[0m\u001b[0m\n",
      "\u001b[0;32m/home/yecheng/anaconda3/lib/python3.6/site-packages/pandas/core/frame.py\u001b[0m in \u001b[0;36m_getitem_column\u001b[0;34m(self, key)\u001b[0m\n\u001b[1;32m   2064\u001b[0m         \u001b[0;31m# get column\u001b[0m\u001b[0;34m\u001b[0m\u001b[0;34m\u001b[0m\u001b[0m\n\u001b[1;32m   2065\u001b[0m         \u001b[0;32mif\u001b[0m \u001b[0mself\u001b[0m\u001b[0;34m.\u001b[0m\u001b[0mcolumns\u001b[0m\u001b[0;34m.\u001b[0m\u001b[0mis_unique\u001b[0m\u001b[0;34m:\u001b[0m\u001b[0;34m\u001b[0m\u001b[0m\n\u001b[0;32m-> 2066\u001b[0;31m             \u001b[0;32mreturn\u001b[0m \u001b[0mself\u001b[0m\u001b[0;34m.\u001b[0m\u001b[0m_get_item_cache\u001b[0m\u001b[0;34m(\u001b[0m\u001b[0mkey\u001b[0m\u001b[0;34m)\u001b[0m\u001b[0;34m\u001b[0m\u001b[0m\n\u001b[0m\u001b[1;32m   2067\u001b[0m \u001b[0;34m\u001b[0m\u001b[0m\n\u001b[1;32m   2068\u001b[0m         \u001b[0;31m# duplicate columns & possible reduce dimensionality\u001b[0m\u001b[0;34m\u001b[0m\u001b[0;34m\u001b[0m\u001b[0m\n",
      "\u001b[0;32m/home/yecheng/anaconda3/lib/python3.6/site-packages/pandas/core/generic.py\u001b[0m in \u001b[0;36m_get_item_cache\u001b[0;34m(self, item)\u001b[0m\n\u001b[1;32m   1384\u001b[0m         \u001b[0mres\u001b[0m \u001b[0;34m=\u001b[0m \u001b[0mcache\u001b[0m\u001b[0;34m.\u001b[0m\u001b[0mget\u001b[0m\u001b[0;34m(\u001b[0m\u001b[0mitem\u001b[0m\u001b[0;34m)\u001b[0m\u001b[0;34m\u001b[0m\u001b[0m\n\u001b[1;32m   1385\u001b[0m         \u001b[0;32mif\u001b[0m \u001b[0mres\u001b[0m \u001b[0;32mis\u001b[0m \u001b[0;32mNone\u001b[0m\u001b[0;34m:\u001b[0m\u001b[0;34m\u001b[0m\u001b[0m\n\u001b[0;32m-> 1386\u001b[0;31m             \u001b[0mvalues\u001b[0m \u001b[0;34m=\u001b[0m \u001b[0mself\u001b[0m\u001b[0;34m.\u001b[0m\u001b[0m_data\u001b[0m\u001b[0;34m.\u001b[0m\u001b[0mget\u001b[0m\u001b[0;34m(\u001b[0m\u001b[0mitem\u001b[0m\u001b[0;34m)\u001b[0m\u001b[0;34m\u001b[0m\u001b[0m\n\u001b[0m\u001b[1;32m   1387\u001b[0m             \u001b[0mres\u001b[0m \u001b[0;34m=\u001b[0m \u001b[0mself\u001b[0m\u001b[0;34m.\u001b[0m\u001b[0m_box_item_values\u001b[0m\u001b[0;34m(\u001b[0m\u001b[0mitem\u001b[0m\u001b[0;34m,\u001b[0m \u001b[0mvalues\u001b[0m\u001b[0;34m)\u001b[0m\u001b[0;34m\u001b[0m\u001b[0m\n\u001b[1;32m   1388\u001b[0m             \u001b[0mcache\u001b[0m\u001b[0;34m[\u001b[0m\u001b[0mitem\u001b[0m\u001b[0;34m]\u001b[0m \u001b[0;34m=\u001b[0m \u001b[0mres\u001b[0m\u001b[0;34m\u001b[0m\u001b[0m\n",
      "\u001b[0;32m/home/yecheng/anaconda3/lib/python3.6/site-packages/pandas/core/internals.py\u001b[0m in \u001b[0;36mget\u001b[0;34m(self, item, fastpath)\u001b[0m\n\u001b[1;32m   3541\u001b[0m \u001b[0;34m\u001b[0m\u001b[0m\n\u001b[1;32m   3542\u001b[0m             \u001b[0;32mif\u001b[0m \u001b[0;32mnot\u001b[0m \u001b[0misnull\u001b[0m\u001b[0;34m(\u001b[0m\u001b[0mitem\u001b[0m\u001b[0;34m)\u001b[0m\u001b[0;34m:\u001b[0m\u001b[0;34m\u001b[0m\u001b[0m\n\u001b[0;32m-> 3543\u001b[0;31m                 \u001b[0mloc\u001b[0m \u001b[0;34m=\u001b[0m \u001b[0mself\u001b[0m\u001b[0;34m.\u001b[0m\u001b[0mitems\u001b[0m\u001b[0;34m.\u001b[0m\u001b[0mget_loc\u001b[0m\u001b[0;34m(\u001b[0m\u001b[0mitem\u001b[0m\u001b[0;34m)\u001b[0m\u001b[0;34m\u001b[0m\u001b[0m\n\u001b[0m\u001b[1;32m   3544\u001b[0m             \u001b[0;32melse\u001b[0m\u001b[0;34m:\u001b[0m\u001b[0;34m\u001b[0m\u001b[0m\n\u001b[1;32m   3545\u001b[0m                 \u001b[0mindexer\u001b[0m \u001b[0;34m=\u001b[0m \u001b[0mnp\u001b[0m\u001b[0;34m.\u001b[0m\u001b[0marange\u001b[0m\u001b[0;34m(\u001b[0m\u001b[0mlen\u001b[0m\u001b[0;34m(\u001b[0m\u001b[0mself\u001b[0m\u001b[0;34m.\u001b[0m\u001b[0mitems\u001b[0m\u001b[0;34m)\u001b[0m\u001b[0;34m)\u001b[0m\u001b[0;34m[\u001b[0m\u001b[0misnull\u001b[0m\u001b[0;34m(\u001b[0m\u001b[0mself\u001b[0m\u001b[0;34m.\u001b[0m\u001b[0mitems\u001b[0m\u001b[0;34m)\u001b[0m\u001b[0;34m]\u001b[0m\u001b[0;34m\u001b[0m\u001b[0m\n",
      "\u001b[0;32m/home/yecheng/anaconda3/lib/python3.6/site-packages/pandas/indexes/base.py\u001b[0m in \u001b[0;36mget_loc\u001b[0;34m(self, key, method, tolerance)\u001b[0m\n\u001b[1;32m   2134\u001b[0m                 \u001b[0;32mreturn\u001b[0m \u001b[0mself\u001b[0m\u001b[0;34m.\u001b[0m\u001b[0m_engine\u001b[0m\u001b[0;34m.\u001b[0m\u001b[0mget_loc\u001b[0m\u001b[0;34m(\u001b[0m\u001b[0mkey\u001b[0m\u001b[0;34m)\u001b[0m\u001b[0;34m\u001b[0m\u001b[0m\n\u001b[1;32m   2135\u001b[0m             \u001b[0;32mexcept\u001b[0m \u001b[0mKeyError\u001b[0m\u001b[0;34m:\u001b[0m\u001b[0;34m\u001b[0m\u001b[0m\n\u001b[0;32m-> 2136\u001b[0;31m                 \u001b[0;32mreturn\u001b[0m \u001b[0mself\u001b[0m\u001b[0;34m.\u001b[0m\u001b[0m_engine\u001b[0m\u001b[0;34m.\u001b[0m\u001b[0mget_loc\u001b[0m\u001b[0;34m(\u001b[0m\u001b[0mself\u001b[0m\u001b[0;34m.\u001b[0m\u001b[0m_maybe_cast_indexer\u001b[0m\u001b[0;34m(\u001b[0m\u001b[0mkey\u001b[0m\u001b[0;34m)\u001b[0m\u001b[0;34m)\u001b[0m\u001b[0;34m\u001b[0m\u001b[0m\n\u001b[0m\u001b[1;32m   2137\u001b[0m \u001b[0;34m\u001b[0m\u001b[0m\n\u001b[1;32m   2138\u001b[0m         \u001b[0mindexer\u001b[0m \u001b[0;34m=\u001b[0m \u001b[0mself\u001b[0m\u001b[0;34m.\u001b[0m\u001b[0mget_indexer\u001b[0m\u001b[0;34m(\u001b[0m\u001b[0;34m[\u001b[0m\u001b[0mkey\u001b[0m\u001b[0;34m]\u001b[0m\u001b[0;34m,\u001b[0m \u001b[0mmethod\u001b[0m\u001b[0;34m=\u001b[0m\u001b[0mmethod\u001b[0m\u001b[0;34m,\u001b[0m \u001b[0mtolerance\u001b[0m\u001b[0;34m=\u001b[0m\u001b[0mtolerance\u001b[0m\u001b[0;34m)\u001b[0m\u001b[0;34m\u001b[0m\u001b[0m\n",
      "\u001b[0;32mpandas/index.pyx\u001b[0m in \u001b[0;36mpandas.index.IndexEngine.get_loc (pandas/index.c:4433)\u001b[0;34m()\u001b[0m\n",
      "\u001b[0;32mpandas/index.pyx\u001b[0m in \u001b[0;36mpandas.index.IndexEngine.get_loc (pandas/index.c:4279)\u001b[0;34m()\u001b[0m\n",
      "\u001b[0;32mpandas/src/hashtable_class_helper.pxi\u001b[0m in \u001b[0;36mpandas.hashtable.PyObjectHashTable.get_item (pandas/hashtable.c:13742)\u001b[0;34m()\u001b[0m\n",
      "\u001b[0;32mpandas/src/hashtable_class_helper.pxi\u001b[0m in \u001b[0;36mpandas.hashtable.PyObjectHashTable.get_item (pandas/hashtable.c:13696)\u001b[0;34m()\u001b[0m\n",
      "\u001b[0;31mKeyError\u001b[0m: 'link_travel_time'"
     ]
    }
   ],
   "source": [
    "trajectory_train['link_time_percent']=trajectory_train['link_travel_time']/trajectory_train['travel_time']\n",
    "trajectory_train['link_travel_time'][trajectory_train['link_travel_time']>trajectory_train['travel_time']]=np.nan"
   ]
  },
  {
   "cell_type": "markdown",
   "metadata": {},
   "source": [
    "## link_time_percent>0.7 可以认为堵车？\n",
    "### 定义一个堵车概率"
   ]
  },
  {
   "cell_type": "code",
   "execution_count": null,
   "metadata": {
    "collapsed": true
   },
   "outputs": [],
   "source": [
    "trajectory_train.head()"
   ]
  },
  {
   "cell_type": "code",
   "execution_count": null,
   "metadata": {
    "collapsed": false
   },
   "outputs": [],
   "source": [
    "trajectory_index_20min=[]\n",
    "\n",
    "for i,x in enumerate(list20min_1):\n",
    "    if i<(len(list20min_1)-1):\n",
    "        index=trajectory_train[(trajectory_train['starting_time_of_day']>=x)&(trajectory_train['starting_time_of_day']<list20min_1[i+1])].index\n",
    "        trajectory_index_20min.append(index)\n",
    "            \n",
    "for i,x in enumerate(list20min_2):\n",
    "    if i<(len(list20min_2)-1):\n",
    "        index=trajectory_train[(trajectory_train['starting_time_of_day']>=x)&(trajectory_train['starting_time_of_day']<list20min_2[i+1])].index\n",
    "        trajectory_index_20min.append(index)\n",
    "\n",
    "trajectory_index_40min=[]\n",
    "\n",
    "for i,x in enumerate(list40min_1):\n",
    "    if i<(len(list40min_1)-1):\n",
    "        index=trajectory_train[(trajectory_train['starting_time_of_day']>=x)&(trajectory_train['starting_time_of_day']<list40min_1[i+1])].index\n",
    "        trajectory_index_40min.append(index)\n",
    "            \n",
    "for i,x in enumerate(list40min_1):\n",
    "    if i<(len(list40min_2)-1):\n",
    "        index=trajectory_train[(trajectory_train['starting_time_of_day']>=x)&(trajectory_train['starting_time_of_day']<list40min_2[i+1])].index\n",
    "        trajectory_index_40min.append(index)\n",
    "\n",
    "trajectory_index_1H=[]\n",
    "\n",
    "for i,x in enumerate(list1h_1):\n",
    "    if i<(len(list1h_1)-1):\n",
    "        index=trajectory_train[(trajectory_train['starting_time_of_day']>=x)&(trajectory_train['starting_time_of_day']<list1h_1[i+1])].index\n",
    "        trajectory_index_1H.append(index)\n",
    "            \n",
    "for i,x in enumerate(list1h_2):\n",
    "    if i<(len(list1h_2)-1):\n",
    "        index=trajectory_train[(trajectory_train['starting_time_of_day']>=x)&(trajectory_train['starting_time_of_day']<list1h_2[i+1])].index\n",
    "        trajectory_index_1H.append(index)  \n",
    "        \n",
    "trajectory_index_2H=[]\n",
    "\n",
    "\n",
    "for i,x in enumerate(list2h_1):\n",
    "    if i<(len(list2h_1)-1):\n",
    "        index=trajectory_train[(trajectory_train['starting_time_of_day']>=x)&(trajectory_train['starting_time_of_day']<list2h_1[i+1])].index\n",
    "        trajectory_index_2H.append(index)\n",
    "            \n",
    "for i,x in enumerate(list2h_2):\n",
    "    if i<(len(list2h_2)-1):\n",
    "        index=trajectory_train[(trajectory_train['starting_time_of_day']>=x)&(trajectory_train['starting_time_of_day']<list2h_2[i+1])].index\n",
    "        trajectory_index_2H.append(index) "
   ]
  },
  {
   "cell_type": "code",
   "execution_count": null,
   "metadata": {
    "collapsed": false
   },
   "outputs": [],
   "source": [
    "#A_2\n",
    "ind_A_2=(trajectory_train['intersection_id']=='A')&(trajectory_train['tollgate_id']==2)\n",
    "#A_3\n",
    "ind_A_3=(trajectory_train['intersection_id']=='A')&(trajectory_train['tollgate_id']==3)\n",
    "#B_1\n",
    "ind_B_1=(trajectory_train['intersection_id']=='B')&(trajectory_train['tollgate_id']==1)\n",
    "#B_3\n",
    "ind_B_3=(trajectory_train['intersection_id']=='B')&(trajectory_train['tollgate_id']==3)\n",
    "#C_1\n",
    "ind_C_1=(trajectory_train['intersection_id']=='C')&(trajectory_train['tollgate_id']==1)\n",
    "#C_3\n",
    "ind_C_3=(trajectory_train['intersection_id']=='C')&(trajectory_train['tollgate_id']==3)\n",
    "\n",
    "list_path_id=[ind_A_2,ind_A_3,ind_B_1,ind_B_3,ind_C_1,ind_C_3]\n",
    "\n",
    "ind_busy=(trajectory_train['link_time_percent']>0.7)"
   ]
  },
  {
   "cell_type": "code",
   "execution_count": null,
   "metadata": {
    "collapsed": false
   },
   "outputs": [],
   "source": [
    "#把堵车数据存入字典中，键值为不同的路径\n",
    "list_prob_20min={i:[] for i in range(6)}\n",
    "list_prob_40min={i:[] for i in range(6)}\n",
    "list_prob_1h={i:[] for i in range(6)}\n",
    "list_prob_2h={i:[] for i in range(6)}\n",
    "list_prob_time=[list_prob_20min,list_prob_40min,list_prob_1h,list_prob_2h]\n",
    "list_trajectory_index_time=[trajectory_index_20min,trajectory_index_40min,trajectory_index_1H,trajectory_index_2H]\n",
    "\n",
    "for list_prob,list_index_time in zip(list_prob_time,list_trajectory_index_time):\n",
    "     for  i,path in enumerate(list_path_id):\n",
    "             for index in list_index_time:\n",
    "                    count1=trajectory_train[path&ind_busy]['travel_time'][index].count()\n",
    "                    count2=trajectory_train[path]['travel_time'][index].count()\n",
    "                    list_prob[i].append(count1/count2)\n",
    "       \n",
    "       "
   ]
  },
  {
   "cell_type": "markdown",
   "metadata": {},
   "source": [
    "# 添加前2h 的均值 和 中位值"
   ]
  },
  {
   "cell_type": "code",
   "execution_count": null,
   "metadata": {
    "collapsed": false
   },
   "outputs": [],
   "source": [
    "train_avg_travel_time = pd.read_csv(\"D:/KDD CUP/dataset/training_20min_avg_travel_time.csv\")\n",
    "train_avg_travel_time['path_time_mean_20min']=0.1"
   ]
  },
  {
   "cell_type": "code",
   "execution_count": null,
   "metadata": {
    "collapsed": true
   },
   "outputs": [],
   "source": [
    "train_avg_travel_time['time_window_start']=train_avg_travel_time.time_window.apply(lambda x:x.split(',')[0][1:])\n",
    "train_avg_travel_time['time_start_of_day']=train_avg_travel_time.time_window_start.apply(lambda x:x.split(' ')[1])"
   ]
  },
  {
   "cell_type": "code",
   "execution_count": null,
   "metadata": {
    "collapsed": true
   },
   "outputs": [],
   "source": [
    "train_avg_travel_time.head()"
   ]
  },
  {
   "cell_type": "code",
   "execution_count": null,
   "metadata": {
    "collapsed": false
   },
   "outputs": [],
   "source": [
    "#A_2\n",
    "ind_A_2=(train_avg_travel_time['intersection_id']=='A')&(train_avg_travel_time['tollgate_id']==2)\n",
    "#A_3\n",
    "ind_A_3=(train_avg_travel_time['intersection_id']=='A')&(train_avg_travel_time['tollgate_id']==3)\n",
    "#B_1\n",
    "ind_B_1=(train_avg_travel_time['intersection_id']=='B')&(train_avg_travel_time['tollgate_id']==1)\n",
    "#B_3\n",
    "ind_B_3=(train_avg_travel_time['intersection_id']=='B')&(train_avg_travel_time['tollgate_id']==3)\n",
    "#C_1\n",
    "ind_C_1=(train_avg_travel_time['intersection_id']=='C')&(train_avg_travel_time['tollgate_id']==1)\n",
    "#C_3\n",
    "ind_C_3=(train_avg_travel_time['intersection_id']=='C')&(train_avg_travel_time['tollgate_id']==3)\n",
    "\n",
    "list20min_1=['06:00:00','06:20:00','06:40:00','07:00:00','07:20:00','07:40:00','08:00:00']\n",
    "list20min_2=['15:00:00','15:20:00','15:40:00','16:00:00','16:20:00','16:40:00','17:00:00']\n",
    "list40min_1=['06:00:00','06:40:00','07:20:00','08:00:00']\n",
    "list40min_2=['15:00:00','15:40:00','16:20:00','17:00:00']\n",
    "list1h_1=['06:00:00','07:00:00','08:00:00']\n",
    "list1h_2=['15:00:00','16:00:00','17:00:00']\n",
    "list2h_1=['06:00:00','08:00:00']\n",
    "list2h_2=['15:00:00','17:00:00']\n"
   ]
  },
  {
   "cell_type": "code",
   "execution_count": null,
   "metadata": {
    "collapsed": false
   },
   "outputs": [],
   "source": [
    "index_20min=[]\n",
    "\n",
    "for i,x in enumerate(list20min_1):\n",
    "    if i<(len(list20min_1)-1):\n",
    "        index=train_avg_travel_time[(train_avg_travel_time['time_start_of_day']>=x)&(train_avg_travel_time['time_start_of_day']<list20min_1[i+1])].index\n",
    "        index_20min.append(index)\n",
    "            \n",
    "for i,x in enumerate(list20min_2):\n",
    "    if i<(len(list20min_2)-1):\n",
    "        index=train_avg_travel_time[(train_avg_travel_time['time_start_of_day']>=x)&(train_avg_travel_time['time_start_of_day']<list20min_2[i+1])].index\n",
    "        index_20min.append(index)\n",
    "\n",
    "index_40min=[]\n",
    "\n",
    "for i,x in enumerate(list40min_1):\n",
    "    if i<(len(list40min_1)-1):\n",
    "        index=train_avg_travel_time[(train_avg_travel_time['time_start_of_day']>=x)&(train_avg_travel_time['time_start_of_day']<list40min_1[i+1])].index\n",
    "        index_40min.append(index)\n",
    "            \n",
    "for i,x in enumerate(list40min_1):\n",
    "    if i<(len(list40min_2)-1):\n",
    "        index=train_avg_travel_time[(train_avg_travel_time['time_start_of_day']>=x)&(train_avg_travel_time['time_start_of_day']<list40min_2[i+1])].index\n",
    "        index_40min.append(index)\n",
    "\n",
    "index_1H=[]\n",
    "\n",
    "for i,x in enumerate(list1h_1):\n",
    "    if i<(len(list1h_1)-1):\n",
    "        index=train_avg_travel_time[(train_avg_travel_time['time_start_of_day']>=x)&(train_avg_travel_time['time_start_of_day']<list1h_1[i+1])].index\n",
    "        index_1H.append(index)\n",
    "            \n",
    "for i,x in enumerate(list1h_2):\n",
    "    if i<(len(list1h_2)-1):\n",
    "        index=train_avg_travel_time[(train_avg_travel_time['time_start_of_day']>=x)&(train_avg_travel_time['time_start_of_day']<list1h_2[i+1])].index\n",
    "        index_1H.append(index)  \n",
    "        \n",
    "index_2H=[]\n",
    "\n",
    "\n",
    "for i,x in enumerate(list2h_1):\n",
    "    if i<(len(list2h_1)-1):\n",
    "        index=train_avg_travel_time[(train_avg_travel_time['time_start_of_day']>=x)&(train_avg_travel_time['time_start_of_day']<list2h_1[i+1])].index\n",
    "        index_2H.append(index)\n",
    "            \n",
    "for i,x in enumerate(list2h_2):\n",
    "    if i<(len(list2h_2)-1):\n",
    "        index=train_avg_travel_time[(train_avg_travel_time['time_start_of_day']>=x)&(train_avg_travel_time['time_start_of_day']<list2h_2[i+1])].index\n",
    "        index_2H.append(index)  \n",
    "index_20min=[]\n",
    "​\n",
    "for i,x in enumerate(list20min_1):\n",
    "    if i<(len(list20min_1)-1):\n",
    "        index=train_avg_travel_time[(train_avg_travel_time['time_start_of_day']>=x)&(train_avg_travel_time['time_start_of_day']<list20min_1[i+1])].index\n",
    "        index_20min.append(index)\n",
    "            \n",
    "for i,x in enumerate(list20min_2):\n",
    "    if i<(len(list20min_2)-1):\n",
    "        index=train_avg_travel_time[(train_avg_travel_time['time_start_of_day']>=x)&(train_avg_travel_time['time_start_of_day']<list20min_2[i+1])].index\n",
    "        index_20min.append(index)\n",
    "​\n",
    "index_40min=[]\n",
    "​\n",
    "for i,x in enumerate(list40min_1):\n",
    "    if i<(len(list40min_1)-1):\n",
    "        index=train_avg_travel_time[(train_avg_travel_time['time_start_of_day']>=x)&(train_avg_travel_time['time_start_of_day']<list40min_1[i+1])].index\n",
    "        index_40min.append(index)\n",
    "            \n",
    "for i,x in enumerate(list40min_1):\n",
    "    if i<(len(list40min_2)-1):\n",
    "        index=train_avg_travel_time[(train_avg_travel_time['time_start_of_day']>=x)&(train_avg_travel_time['time_start_of_day']<list40min_2[i+1])].index\n",
    "        index_40min.append(index)\n",
    "​\n",
    "index_1H=[]\n",
    "​\n",
    "for i,x in enumerate(list1h_1):\n",
    "    if i<(len(list1h_1)-1):\n",
    "        index=train_avg_travel_time[(train_avg_travel_time['time_start_of_day']>=x)&(train_avg_travel_time['time_start_of_day']<list1h_1[i+1])].index\n",
    "        index_1H.append(index)\n",
    "            \n",
    "for i,x in enumerate(list1h_2):\n",
    "    if i<(len(list1h_2)-1):\n",
    "        index=train_avg_travel_time[(train_avg_travel_time['time_start_of_day']>=x)&(train_avg_travel_time['time_start_of_day']<list1h_2[i+1])].index\n",
    "        index_1H.append(index)  \n",
    "        \n",
    "index_2H=[]\n",
    "​\n",
    "​\n",
    "for i,x in enumerate(list2h_1):\n",
    "    if i<(len(list2h_1)-1):\n",
    "        index=train_avg_travel_time[(train_avg_travel_time['time_start_of_day']>=x)&(train_avg_travel_time['time_start_of_day']<list2h_1[i+1])].index\n",
    "        index_2H.append(index)\n",
    "            \n",
    "for i,x in enumerate(list2h_2):\n",
    "    if i<(len(list2h_2)-1):\n",
    "        index=train_avg_travel_time[(train_avg_travel_time['time_start_of_day']>=x)&(train_avg_travel_time['time_start_of_day']<list2h_2[i+1])].index\n",
    "        index_2H.append(index)  \n",
    "In [60]:\n",
    "\n",
    "ind=(train_avg_travel_time['time_start_of_day']>='08:00:00')&(train_av"
   ]
  },
  {
   "cell_type": "code",
   "execution_count": null,
   "metadata": {
    "collapsed": true
   },
   "outputs": [],
   "source": [
    "ind=(train_avg_travel_time['time_start_of_day']>='08:00:00')&(train_avg_travel_time['time_start_of_day']<'10:00:00')\n",
    "ind1=(train_avg_travel_time['time_start_of_day']>='17:00:00')&(train_avg_travel_time['time_start_of_day']<'19:00:00')\n",
    "ind2=ind|ind1\n",
    "train_avg_travel_time_4h=train_avg_travel_time[ind2]\n",
    "\n",
    "train_avg_travel_time_4h['path_time_mean_20min1']=0.1\n",
    "train_avg_travel_time_4h['path_time_mean_20min2']=0.1\n",
    "train_avg_travel_time_4h['path_time_mean_20min3']=0.1\n",
    "train_avg_travel_time_4h['path_time_mean_20min4']=0.1\n",
    "train_avg_travel_time_4h['path_time_mean_20min5']=0.1\n",
    "train_avg_travel_time_4h['path_time_mean_20min6']=0.1\n",
    "train_avg_travel_time_4h['path_time_mean_20min7']=0.1\n",
    "train_avg_travel_time_4h['path_time_mean_20min8']=0.1\n",
    "train_avg_travel_time_4h['path_time_mean_20min9']=0.1\n",
    "train_avg_travel_time_4h['path_time_mean_20min10']=0.1\n",
    "train_avg_travel_time_4h['path_time_mean_20min11']=0.1\n",
    "train_avg_travel_time_4h['path_time_mean_20min12']=0.1\n",
    "\n",
    "train_avg_travel_time_4h['path_time_mean_40min1']=0.1\n",
    "train_avg_travel_time_4h['path_time_mean_40min2']=0.1\n",
    "train_avg_travel_time_4h['path_time_mean_40min3']=0.1\n",
    "train_avg_travel_time_4h['path_time_mean_40min4']=0.1\n",
    "train_avg_travel_time_4h['path_time_mean_40min5']=0.1\n",
    "train_avg_travel_time_4h['path_time_mean_40min6']=0.1\n",
    "\n",
    "train_avg_travel_time_4h['path_time_mean_1h1']=0.1\n",
    "train_avg_travel_time_4h['path_time_mean_1h2']=0.1\n",
    "train_avg_travel_time_4h['path_time_mean_1h3']=0.1\n",
    "train_avg_travel_time_4h['path_time_mean_1h4']=0.1\n",
    "\n",
    "train_avg_travel_time_4h['path_time_mean_2h1']=0.1\n",
    "train_avg_travel_time_4h['path_time_mean_2h2']=0.1\n"
   ]
  },
  {
   "cell_type": "code",
   "execution_count": null,
   "metadata": {
    "collapsed": true
   },
   "outputs": [],
   "source": [
    "index_path_id=[ind_A_2,ind_A_3,ind_B_1,ind_B_3,ind_C_1,ind_C_3]\n"
   ]
  },
  {
   "cell_type": "code",
   "execution_count": null,
   "metadata": {
    "collapsed": true
   },
   "outputs": [],
   "source": [
    "for col in ['path_time_mean_20min1', 'path_time_mean_20min2', 'path_time_mean_20min3', 'path_time_mean_20min4',   'path_time_mean_20min5', 'path_time_mean_20min6',\n",
    "            'path_time_mean_20min7','path_time_mean_20min8', 'path_time_mean_20min9', 'path_time_mean_20min10', 'path_time_mean_20min11','path_time_mean_20min12']:\n",
    "    for  path in index_path_id:\n",
    "             for index in index_20min:\n",
    "                    train_avg_travel_time_4h[col][path]=train_avg_travel_time[path]['avg_travel_time'][index].mean()\n",
    "                    \n",
    "\n",
    "for col in ['path_time_mean_40min1', 'path_time_mean_40min2', 'path_time_mean_40min3', 'path_time_mean_40min4',   'path_time_mean_40min5', 'path_time_mean_40min6' ]:\n",
    "    for  path in index_path_id:\n",
    "             for index in index_40min:\n",
    "                    train_avg_travel_time_4h[col][path]=train_avg_travel_time[path]['avg_travel_time'][index].mean()\n",
    "\n",
    "for col in ['path_time_mean_1h1', 'path_time_mean_1h2', 'path_time_mean_1h3', 'path_time_mean_1h4']:\n",
    "    for  path in index_path_id:\n",
    "             for index in index_1H:\n",
    "                    train_avg_travel_time_4h[col][path]=train_avg_travel_time[path]['avg_travel_time'][index].mean()\n",
    "\n",
    "for col in ['path_time_mean_2h1', 'path_time_mean_2h2']:\n",
    "    for  path in index_path_id:\n",
    "             for index in index_2H:\n",
    "                    train_avg_travel_time_4h[col][path]=train_avg_travel_time[path]['avg_travel_time'][index].mean()"
   ]
  },
  {
   "cell_type": "code",
   "execution_count": null,
   "metadata": {
    "collapsed": true
   },
   "outputs": [],
   "source": [
    "train_avg_travel_time_4h['path_time_median_20min1']=0.1\n",
    "train_avg_travel_time_4h['path_time_median_20min2']=0.1\n",
    "train_avg_travel_time_4h['path_time_median_20min3']=0.1\n",
    "train_avg_travel_time_4h['path_time_median_20min4']=0.1\n",
    "train_avg_travel_time_4h['path_time_median_20min5']=0.1\n",
    "train_avg_travel_time_4h['path_time_median_20min6']=0.1\n",
    "train_avg_travel_time_4h['path_time_median_20min7']=0.1\n",
    "train_avg_travel_time_4h['path_time_median_20min8']=0.1\n",
    "train_avg_travel_time_4h['path_time_median_20min9']=0.1\n",
    "train_avg_travel_time_4h['path_time_median_20min10']=0.1\n",
    "train_avg_travel_time_4h['path_time_median_20min11']=0.1\n",
    "train_avg_travel_time_4h['path_time_median_20min12']=0.1\n",
    "\n",
    "train_avg_travel_time_4h['path_time_median_40min1']=0.1\n",
    "train_avg_travel_time_4h['path_time_median_40min2']=0.1\n",
    "train_avg_travel_time_4h['path_time_median_40min3']=0.1\n",
    "train_avg_travel_time_4h['path_time_median_40min4']=0.1\n",
    "train_avg_travel_time_4h['path_time_median_40min5']=0.1\n",
    "train_avg_travel_time_4h['path_time_median_40min6']=0.1\n",
    "\n",
    "train_avg_travel_time_4h['path_time_median_1h1']=0.1\n",
    "train_avg_travel_time_4h['path_time_median_1h2']=0.1\n",
    "train_avg_travel_time_4h['path_time_median_1h3']=0.1\n",
    "train_avg_travel_time_4h['path_time_median_1h4']=0.1\n",
    "\n",
    "train_avg_travel_time_4h['path_time_median_2h1']=0.1\n",
    "train_avg_travel_time_4h['path_time_median_2h2']=0.1"
   ]
  },
  {
   "cell_type": "code",
   "execution_count": null,
   "metadata": {
    "collapsed": true
   },
   "outputs": [],
   "source": [
    "for col in ['path_time_median_20min1', 'path_time_median_20min2', 'path_time_median_20min3', 'path_time_median_20min4',   'path_time_median_20min5', 'path_time_median_20min6',\n",
    "            'path_time_median_20min7','path_time_median_20min8', 'path_time_median_20min9', 'path_time_median_20min10', 'path_time_median_20min11','path_time_median_20min12']:\n",
    "    for  path in index_path_id:\n",
    "             for index in index_20min:\n",
    "                    train_avg_travel_time_4h[col][path]=train_avg_travel_time[path]['avg_travel_time'][index].median()\n",
    "                    \n",
    "\n",
    "for col in ['path_time_median_40min1', 'path_time_median_40min2', 'path_time_median_40min3', 'path_time_median_40min4',   'path_time_median_40min5', 'path_time_median_40min6' ]:\n",
    "    for  path in index_path_id:\n",
    "             for index in index_40min:\n",
    "                    train_avg_travel_time_4h[col][path]=train_avg_travel_time[path]['avg_travel_time'][index].median()\n",
    "\n",
    "for col in ['path_time_median_1h1', 'path_time_median_1h2', 'path_time_median_1h3', 'path_time_median_1h4']:\n",
    "    for  path in index_path_id:\n",
    "             for index in index_1H:\n",
    "                    train_avg_travel_time_4h[col][path]=train_avg_travel_time[path]['avg_travel_time'][index].median()\n",
    "\n",
    "for col in ['path_time_median_2h1', 'path_time_median_2h2']:\n",
    "    for  path in index_path_id:\n",
    "             for index in index_2H:\n",
    "                    train_avg_travel_time_4h[col][path]=train_avg_travel_time[path]['avg_travel_time'][index].median()"
   ]
  },
  {
   "cell_type": "code",
   "execution_count": null,
   "metadata": {
    "collapsed": false
   },
   "outputs": [],
   "source": [
    "train_avg_travel_time_4h['Traffic_jam_probability_20min1']=0.1\n",
    "train_avg_travel_time_4h['Traffic_jam_probability_20min2']=0.1\n",
    "train_avg_travel_time_4h['Traffic_jam_probability_20min3']=0.1\n",
    "train_avg_travel_time_4h['Traffic_jam_probability_20min4']=0.1\n",
    "train_avg_travel_time_4h['Traffic_jam_probability_20min5']=0.1\n",
    "train_avg_travel_time_4h['Traffic_jam_probability_20min6']=0.1\n",
    "train_avg_travel_time_4h['Traffic_jam_probability_20min7']=0.1\n",
    "train_avg_travel_time_4h['Traffic_jam_probability_20min8']=0.1\n",
    "train_avg_travel_time_4h['Traffic_jam_probability_20min9']=0.1\n",
    "train_avg_travel_time_4h['Traffic_jam_probability_20min10']=0.1\n",
    "train_avg_travel_time_4h['Traffic_jam_probability_20min11']=0.1\n",
    "train_avg_travel_time_4h['Traffic_jam_probability_20min12']=0.1\n",
    "\n",
    "train_avg_travel_time_4h['Traffic_jam_probability_40min1']=0.1\n",
    "train_avg_travel_time_4h['Traffic_jam_probability_40min2']=0.1\n",
    "train_avg_travel_time_4h['Traffic_jam_probability_40min3']=0.1\n",
    "train_avg_travel_time_4h['Traffic_jam_probability_40min4']=0.1\n",
    "train_avg_travel_time_4h['Traffic_jam_probability_40min5']=0.1\n",
    "train_avg_travel_time_4h['Traffic_jam_probability_40min6']=0.1\n",
    "\n",
    "train_avg_travel_time_4h['Traffic_jam_probability_1h1']=0.1\n",
    "train_avg_travel_time_4h['Traffic_jam_probability_1h2']=0.1\n",
    "train_avg_travel_time_4h['Traffic_jam_probability_1h3']=0.1\n",
    "train_avg_travel_time_4h['Traffic_jam_probability_1h4']=0.1\n",
    "\n",
    "train_avg_travel_time_4h['Traffic_jam_probability_2h1']=0.1\n",
    "train_avg_travel_time_4h['Traffic_jam_probability_2h2']=0.1"
   ]
  },
  {
   "cell_type": "code",
   "execution_count": null,
   "metadata": {
    "collapsed": true
   },
   "outputs": [],
   "source": [
    "for n,col in enumerate(['Traffic_jam_probability_20min1', 'Traffic_jam_probability_20min2', 'Traffic_jam_probability_20min3', \n",
    "            'Traffic_jam_probability_20min4',   'Traffic_jam_probability_20min5', 'Traffic_jam_probability_20min6',\n",
    "            'Traffic_jam_probability_20min7','Traffic_jam_probability_20min8', 'Traffic_jam_probability_20min9',\n",
    "            'Traffic_jam_probability_20min10', 'Traffic_jam_probability_20min11','Traffic_jam_probability_20min12']):\n",
    "        for  i,path in enumerate(index_path_id):\n",
    "                    train_avg_travel_time_4h[col][path]=list_prob_20min[i][n]\n",
    "        \n",
    "for n,col in enumerate(['Traffic_jam_probability_40min1', 'Traffic_jam_probability_40min2', 'Traffic_jam_probability_40min3', \n",
    "            'Traffic_jam_probability_40min4',   'Traffic_jam_probability_40min5', 'Traffic_jam_probability_40min6']):\n",
    "        for  i,path in enumerate(index_path_id):\n",
    "                    train_avg_travel_time_4h[col][path]=list_prob_40min[i][n]\n",
    "\n",
    "for n,col in enumerate(['Traffic_jam_probability_1h1', 'Traffic_jam_probability_1h2', 'Traffic_jam_probability_1h3', \n",
    "            'Traffic_jam_probability_1h4']):\n",
    "        for  i,path in enumerate(index_path_id):\n",
    "                    train_avg_travel_time_4h[col][path]=list_prob_1h[i][n]\n",
    "\n",
    "for n,col in enumerate(['Traffic_jam_probability_2h1', 'Traffic_jam_probability_2h2']):\n",
    "        for  i,path in enumerate(index_path_id):\n",
    "                    train_avg_travel_time_4h[col][path]=list_prob_2h[i][n]"
   ]
  },
  {
   "cell_type": "code",
   "execution_count": null,
   "metadata": {
    "collapsed": false
   },
   "outputs": [],
   "source": [
    "train_avg_travel_time_4h.to_csv(\"train_avg_travel_time_4h&path.csv\")"
   ]
  }
 ],
 "metadata": {
  "kernelspec": {
   "display_name": "Python 3",
   "language": "python",
   "name": "python3"
  },
  "language_info": {
   "codemirror_mode": {
    "name": "ipython",
    "version": 3
   },
   "file_extension": ".py",
   "mimetype": "text/x-python",
   "name": "python",
   "nbconvert_exporter": "python",
   "pygments_lexer": "ipython3",
   "version": "3.6.0"
  }
 },
 "nbformat": 4,
 "nbformat_minor": 2
}
